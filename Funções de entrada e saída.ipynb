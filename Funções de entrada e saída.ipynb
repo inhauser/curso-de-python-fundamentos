{
 "cells": [
  {
   "cell_type": "code",
   "execution_count": 2,
   "id": "db18a29a",
   "metadata": {},
   "outputs": [
    {
     "name": "stdout",
     "output_type": "stream",
     "text": [
      "Informe o seu nome: Marcelo\n",
      "Informe o seu sobrenome: Inhauser Rotoli\n",
      "Marcelo Inhauser Rotoli\n",
      "Marcelo Inhauser Rotoli...\n",
      "Marcelo#Inhauser Rotoli\n"
     ]
    }
   ],
   "source": [
    "nome = input(\"Informe o seu nome: \")\n",
    "sobrenome = input(\"Informe o seu sobrenome: \")\n",
    "print(nome, sobrenome)\n",
    "print(nome, sobrenome, end=\"...\\n\")\n",
    "print(nome, sobrenome, sep=\"#\")"
   ]
  },
  {
   "cell_type": "code",
   "execution_count": 1,
   "id": "044eaaed",
   "metadata": {},
   "outputs": [
    {
     "name": "stdout",
     "output_type": "stream",
     "text": [
      "Marcelo Rotoli\n",
      "Marcelo Rotoli...\n",
      "Marcelo#Rotoli\n"
     ]
    }
   ],
   "source": [
    "nome = (\"Marcelo\")\n",
    "sobrenome = (\"Rotoli\")\n",
    "print(nome, sobrenome)\n",
    "print(nome, sobrenome, end=\"...\\n\")\n",
    "print(nome, sobrenome, sep=\"#\")"
   ]
  },
  {
   "cell_type": "code",
   "execution_count": 6,
   "id": "d6b092d6",
   "metadata": {},
   "outputs": [
    {
     "name": "stdout",
     "output_type": "stream",
     "text": [
      "Informe o seu nome: Marcelo\n",
      "Informe a sua idade: 52\n",
      "Marcelo 52\n",
      "Marcelo 52...\n",
      "Marcelo;52\n",
      "Marcelo;52...\n"
     ]
    }
   ],
   "source": [
    "nome = input(\"Informe o seu nome: \")\n",
    "idade = input(\"Informe a sua idade: \")\n",
    "\n",
    "print(nome, idade)\n",
    "#print(\"teste\", end=\" \")\n",
    "print(nome, idade, end=\"...\\n\")\n",
    "print(nome, idade, sep=\";\")\n",
    "\n",
    "print(nome, idade, sep=\";\", end=\"...\\n\")"
   ]
  },
  {
   "cell_type": "code",
   "execution_count": null,
   "id": "492d031d",
   "metadata": {},
   "outputs": [],
   "source": []
  }
 ],
 "metadata": {
  "kernelspec": {
   "display_name": "Python 3",
   "language": "python",
   "name": "python3"
  },
  "language_info": {
   "codemirror_mode": {
    "name": "ipython",
    "version": 3
   },
   "file_extension": ".py",
   "mimetype": "text/x-python",
   "name": "python",
   "nbconvert_exporter": "python",
   "pygments_lexer": "ipython3",
   "version": "3.8.8"
  }
 },
 "nbformat": 4,
 "nbformat_minor": 5
}
