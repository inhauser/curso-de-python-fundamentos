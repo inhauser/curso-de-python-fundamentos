{
 "cells": [
  {
   "cell_type": "code",
   "execution_count": 2,
   "id": "d96ee843",
   "metadata": {},
   "outputs": [
    {
     "name": "stdout",
     "output_type": "stream",
     "text": [
      "10\n",
      "10.0\n",
      "5.0\n"
     ]
    }
   ],
   "source": [
    "preco = 10\n",
    "print (preco)\n",
    "\n",
    "preco = float(preco)\n",
    "print(preco)\n",
    "\n",
    "preco = 10 / 2\n",
    "print(preco)"
   ]
  },
  {
   "cell_type": "code",
   "execution_count": 3,
   "id": "b9666cd2",
   "metadata": {},
   "outputs": [
    {
     "name": "stdout",
     "output_type": "stream",
     "text": [
      "10.3\n",
      "10\n"
     ]
    }
   ],
   "source": [
    "preco = 10.30\n",
    "print(preco)\n",
    "\n",
    "preco = int(preco)\n",
    "print(preco)"
   ]
  },
  {
   "cell_type": "code",
   "execution_count": 4,
   "id": "bdd6220a",
   "metadata": {},
   "outputs": [
    {
     "name": "stdout",
     "output_type": "stream",
     "text": [
      "10\n",
      "5.0\n",
      "5\n"
     ]
    }
   ],
   "source": [
    "preco = 10\n",
    "print(preco)\n",
    "\n",
    "print(preco / 2)\n",
    "\n",
    "print(preco // 2)"
   ]
  },
  {
   "cell_type": "code",
   "execution_count": 5,
   "id": "b86ab363",
   "metadata": {},
   "outputs": [
    {
     "name": "stdout",
     "output_type": "stream",
     "text": [
      "10.5\n",
      "28\n",
      "idade 28 preco 10.5\n"
     ]
    }
   ],
   "source": [
    "preco = 10.50\n",
    "idade = 28\n",
    "\n",
    "print(str(preco))\n",
    "\n",
    "print(str(idade))\n",
    "\n",
    "texto = f'idade {idade} preco {preco}'\n",
    "print(texto)\n"
   ]
  },
  {
   "cell_type": "code",
   "execution_count": 6,
   "id": "524b0f76",
   "metadata": {},
   "outputs": [
    {
     "name": "stdout",
     "output_type": "stream",
     "text": [
      "10.5\n",
      "28\n"
     ]
    }
   ],
   "source": [
    "preco = '10.50'\n",
    "idade = '28'\n",
    "\n",
    "print(float(preco))\n",
    "\n",
    "print(int(idade))"
   ]
  },
  {
   "cell_type": "code",
   "execution_count": 7,
   "id": "80724103",
   "metadata": {},
   "outputs": [
    {
     "ename": "ValueError",
     "evalue": "could not convert string to float: 'python'",
     "output_type": "error",
     "traceback": [
      "\u001b[1;31m---------------------------------------------------------------------------\u001b[0m",
      "\u001b[1;31mValueError\u001b[0m                                Traceback (most recent call last)",
      "\u001b[1;32m<ipython-input-7-1ca45cb66338>\u001b[0m in \u001b[0;36m<module>\u001b[1;34m\u001b[0m\n\u001b[0;32m      1\u001b[0m \u001b[0mpreco\u001b[0m \u001b[1;33m=\u001b[0m \u001b[1;34m\"python\"\u001b[0m\u001b[1;33m\u001b[0m\u001b[1;33m\u001b[0m\u001b[0m\n\u001b[1;32m----> 2\u001b[1;33m \u001b[0mprint\u001b[0m\u001b[1;33m(\u001b[0m\u001b[0mfloat\u001b[0m\u001b[1;33m(\u001b[0m\u001b[0mpreco\u001b[0m\u001b[1;33m)\u001b[0m\u001b[1;33m)\u001b[0m\u001b[1;33m\u001b[0m\u001b[1;33m\u001b[0m\u001b[0m\n\u001b[0m",
      "\u001b[1;31mValueError\u001b[0m: could not convert string to float: 'python'"
     ]
    }
   ],
   "source": [
    "preco = \"python\"\n",
    "print(float(preco))"
   ]
  },
  {
   "cell_type": "code",
   "execution_count": 8,
   "id": "8a303ec6",
   "metadata": {},
   "outputs": [
    {
     "name": "stdout",
     "output_type": "stream",
     "text": [
      "1\n",
      "10\n",
      "10.2\n",
      "100.0\n",
      "10.1\n",
      "<class 'str'>\n"
     ]
    }
   ],
   "source": [
    "print(int(1.9786868))\n",
    "print(int(\"10\"))\n",
    "print(float(\"10.20\"))\n",
    "print(float(100))\n",
    "\n",
    "print(str(10.10))\n",
    "print(type(str(10.10)))"
   ]
  },
  {
   "cell_type": "code",
   "execution_count": 9,
   "id": "ccde4893",
   "metadata": {},
   "outputs": [
    {
     "name": "stdout",
     "output_type": "stream",
     "text": [
      "<class 'int'>\n",
      "<class 'str'>\n"
     ]
    }
   ],
   "source": [
    "valor = 10\n",
    "valor_str = str(valor)\n",
    "print(type(valor))\n",
    "print(type(valor_str))"
   ]
  },
  {
   "cell_type": "code",
   "execution_count": 10,
   "id": "5531f416",
   "metadata": {},
   "outputs": [
    {
     "name": "stdout",
     "output_type": "stream",
     "text": [
      "50.0\n",
      "<class 'type'>\n",
      "50\n",
      "<class 'type'>\n"
     ]
    }
   ],
   "source": [
    "print(100/2)\n",
    "\n",
    "print(100 // 2)\n"
   ]
  },
  {
   "cell_type": "code",
   "execution_count": null,
   "id": "d08ea235",
   "metadata": {},
   "outputs": [],
   "source": []
  }
 ],
 "metadata": {
  "kernelspec": {
   "display_name": "Python 3",
   "language": "python",
   "name": "python3"
  },
  "language_info": {
   "codemirror_mode": {
    "name": "ipython",
    "version": 3
   },
   "file_extension": ".py",
   "mimetype": "text/x-python",
   "name": "python",
   "nbconvert_exporter": "python",
   "pygments_lexer": "ipython3",
   "version": "3.8.8"
  }
 },
 "nbformat": 4,
 "nbformat_minor": 5
}
