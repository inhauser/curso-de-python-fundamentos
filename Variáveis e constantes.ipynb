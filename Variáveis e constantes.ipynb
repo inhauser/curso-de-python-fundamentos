{
 "cells": [
  {
   "cell_type": "code",
   "execution_count": 3,
   "id": "1c77c39e",
   "metadata": {},
   "outputs": [
    {
     "name": "stdout",
     "output_type": "stream",
     "text": [
      "Meu nome é Guilherme e eu tenho 28 anos(s) de idade.\n",
      "Meu nome é Giovana e eu tenho 27 anos(s) de idade.\n"
     ]
    }
   ],
   "source": [
    "age = 28\n",
    "name = 'Guilherme'\n",
    "print(f'Meu nome é {name} e eu tenho {age} anos(s) de idade.')\n",
    "\n",
    "age = 27\n",
    "name = 'Giovana'\n",
    "print(f'Meu nome é {name} e eu tenho {age} anos(s) de idade.')\n"
   ]
  },
  {
   "cell_type": "code",
   "execution_count": 5,
   "id": "fb269712",
   "metadata": {},
   "outputs": [
    {
     "name": "stdout",
     "output_type": "stream",
     "text": [
      "Meu nome é Guilherme e eu tenho 23 anos(s) de idade.\n"
     ]
    }
   ],
   "source": [
    "age, name = (23, 'Guilherme')\n",
    "print(f'Meu nome é {name} e eu tenho {age} anos(s) de idade.')"
   ]
  },
  {
   "cell_type": "code",
   "execution_count": 6,
   "id": "f030a59d",
   "metadata": {},
   "outputs": [],
   "source": [
    "ABS_PATH = '/home/guilherme/Documents/pyhton_course/'\n",
    "DEBUG = True\n",
    "STATES = [\n",
    "    'SP'\n",
    "    'RJ'\n",
    "    'MG'\n",
    "]\n",
    "AMOUNT = 30.2\n",
    "#NOME EM MAIÚSUCULO, SINALIZA QUE É UMA CONSTANTE"
   ]
  },
  {
   "cell_type": "code",
   "execution_count": 9,
   "id": "607c4c38",
   "metadata": {},
   "outputs": [
    {
     "name": "stdout",
     "output_type": "stream",
     "text": [
      "Giovanna 27\n",
      "['SP', 'RJ', 'SC', 'RS']\n"
     ]
    }
   ],
   "source": [
    "nome = 'Guilherme'\n",
    "idade = 28\n",
    "\n",
    "nome, idade = ('Giovanna', 27)\n",
    "\n",
    "print(nome, idade)\n",
    "\n",
    "limite_sque_diario = 1000\n",
    "\n",
    "BRAZILIAN_STATES = ['SP', 'RJ', 'SC', 'RS']\n",
    "\n",
    "print(BRAZILIAN_STATES)"
   ]
  },
  {
   "cell_type": "code",
   "execution_count": null,
   "id": "0492a215",
   "metadata": {},
   "outputs": [],
   "source": []
  }
 ],
 "metadata": {
  "kernelspec": {
   "display_name": "Python 3",
   "language": "python",
   "name": "python3"
  },
  "language_info": {
   "codemirror_mode": {
    "name": "ipython",
    "version": 3
   },
   "file_extension": ".py",
   "mimetype": "text/x-python",
   "name": "python",
   "nbconvert_exporter": "python",
   "pygments_lexer": "ipython3",
   "version": "3.8.8"
  }
 },
 "nbformat": 4,
 "nbformat_minor": 5
}
